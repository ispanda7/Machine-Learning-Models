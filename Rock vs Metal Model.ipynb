{
 "cells": [
  {
   "cell_type": "markdown",
   "metadata": {},
   "source": [
    "# Python Project Temnplate"
   ]
  },
  {
   "cell_type": "markdown",
   "metadata": {},
   "source": [
    "## 1. Prepare Problem"
   ]
  },
  {
   "cell_type": "markdown",
   "metadata": {},
   "source": [
    "### a) Load Libraries"
   ]
  },
  {
   "cell_type": "code",
   "execution_count": 15,
   "metadata": {},
   "outputs": [],
   "source": [
    "import numpy as np\n",
    "from matplotlib import pyplot\n",
    "from pandas import read_csv\n",
    "import pandas as pd\n",
    "from pandas import set_option\n",
    "from pandas.tools.plotting import scatter_matrix\n",
    "from sklearn.preprocessing import StandardScaler\n",
    "from sklearn.model_selection import train_test_split\n",
    "from sklearn.model_selection import KFold\n",
    "from sklearn.model_selection import cross_val_score\n",
    "from sklearn.model_selection import GridSearchCV\n",
    "from sklearn.metrics import classification_report\n",
    "from sklearn.metrics import confusion_matrix\n",
    "from sklearn.metrics import accuracy_score\n",
    "from sklearn.pipeline import Pipeline\n",
    "from sklearn.linear_model import LogisticRegression\n",
    "from sklearn.tree import DecisionTreeClassifier\n",
    "from sklearn.neighbors import KNeighborsClassifier\n",
    "from sklearn.discriminant_analysis import LinearDiscriminantAnalysis\n",
    "from sklearn.naive_bayes import GaussianNB\n",
    "from sklearn.svm import SVC\n",
    "from sklearn.ensemble import AdaBoostClassifier\n",
    "from sklearn.ensemble import GradientBoostingClassifier\n",
    "from sklearn.ensemble import RandomForestClassifier\n",
    "from sklearn.ensemble import ExtraTreesClassifier\n",
    "\n",
    "%matplotlib inline"
   ]
  },
  {
   "cell_type": "markdown",
   "metadata": {},
   "source": [
    "### b) Load dataset"
   ]
  },
  {
   "cell_type": "code",
   "execution_count": 6,
   "metadata": {},
   "outputs": [],
   "source": [
    "dataset = read_csv(\"sonar.all-data.csv\")"
   ]
  },
  {
   "cell_type": "markdown",
   "metadata": {},
   "source": [
    "## 2. Summarize Data"
   ]
  },
  {
   "cell_type": "markdown",
   "metadata": {},
   "source": [
    "### a) Descriptive Statistics"
   ]
  },
  {
   "cell_type": "code",
   "execution_count": 8,
   "metadata": {},
   "outputs": [
    {
     "data": {
      "text/plain": [
       "(207, 61)"
      ]
     },
     "execution_count": 8,
     "metadata": {},
     "output_type": "execute_result"
    }
   ],
   "source": [
    "dataset.shape"
   ]
  },
  {
   "cell_type": "code",
   "execution_count": 9,
   "metadata": {},
   "outputs": [
    {
     "name": "stdout",
     "output_type": "stream",
     "text": [
      "<class 'pandas.core.frame.DataFrame'>\n",
      "RangeIndex: 207 entries, 0 to 206\n",
      "Data columns (total 61 columns):\n",
      "0.0200    207 non-null float64\n",
      "0.0371    207 non-null float64\n",
      "0.0428    207 non-null float64\n",
      "0.0207    207 non-null float64\n",
      "0.0954    207 non-null float64\n",
      "0.0986    207 non-null float64\n",
      "0.1539    207 non-null float64\n",
      "0.1601    207 non-null float64\n",
      "0.3109    207 non-null float64\n",
      "0.2111    207 non-null float64\n",
      "0.1609    207 non-null float64\n",
      "0.1582    207 non-null float64\n",
      "0.2238    207 non-null float64\n",
      "0.0645    207 non-null float64\n",
      "0.0660    207 non-null float64\n",
      "0.2273    207 non-null float64\n",
      "0.3100    207 non-null float64\n",
      "0.2999    207 non-null float64\n",
      "0.5078    207 non-null float64\n",
      "0.4797    207 non-null float64\n",
      "0.5783    207 non-null float64\n",
      "0.5071    207 non-null float64\n",
      "0.4328    207 non-null float64\n",
      "0.5550    207 non-null float64\n",
      "0.6711    207 non-null float64\n",
      "0.6415    207 non-null float64\n",
      "0.7104    207 non-null float64\n",
      "0.8080    207 non-null float64\n",
      "0.6791    207 non-null float64\n",
      "0.3857    207 non-null float64\n",
      "0.1307    207 non-null float64\n",
      "0.2604    207 non-null float64\n",
      "0.5121    207 non-null float64\n",
      "0.7547    207 non-null float64\n",
      "0.8537    207 non-null float64\n",
      "0.8507    207 non-null float64\n",
      "0.6692    207 non-null float64\n",
      "0.6097    207 non-null float64\n",
      "0.4943    207 non-null float64\n",
      "0.2744    207 non-null float64\n",
      "0.0510    207 non-null float64\n",
      "0.2834    207 non-null float64\n",
      "0.2825    207 non-null float64\n",
      "0.4256    207 non-null float64\n",
      "0.2641    207 non-null float64\n",
      "0.1386    207 non-null float64\n",
      "0.1051    207 non-null float64\n",
      "0.1343    207 non-null float64\n",
      "0.0383    207 non-null float64\n",
      "0.0324    207 non-null float64\n",
      "0.0232    207 non-null float64\n",
      "0.0027    207 non-null float64\n",
      "0.0065    207 non-null float64\n",
      "0.0159    207 non-null float64\n",
      "0.0072    207 non-null float64\n",
      "0.0167    207 non-null float64\n",
      "0.0180    207 non-null float64\n",
      "0.0084    207 non-null float64\n",
      "0.0090    207 non-null float64\n",
      "0.0032    207 non-null float64\n",
      "R         207 non-null object\n",
      "dtypes: float64(60), object(1)\n",
      "memory usage: 98.7+ KB\n"
     ]
    }
   ],
   "source": [
    "dataset.info()"
   ]
  },
  {
   "cell_type": "code",
   "execution_count": 10,
   "metadata": {},
   "outputs": [
    {
     "data": {
      "text/html": [
       "<div>\n",
       "<style scoped>\n",
       "    .dataframe tbody tr th:only-of-type {\n",
       "        vertical-align: middle;\n",
       "    }\n",
       "\n",
       "    .dataframe tbody tr th {\n",
       "        vertical-align: top;\n",
       "    }\n",
       "\n",
       "    .dataframe thead th {\n",
       "        text-align: right;\n",
       "    }\n",
       "</style>\n",
       "<table border=\"1\" class=\"dataframe\">\n",
       "  <thead>\n",
       "    <tr style=\"text-align: right;\">\n",
       "      <th></th>\n",
       "      <th>0.0200</th>\n",
       "      <th>0.0371</th>\n",
       "      <th>0.0428</th>\n",
       "      <th>0.0207</th>\n",
       "      <th>0.0954</th>\n",
       "      <th>0.0986</th>\n",
       "      <th>0.1539</th>\n",
       "      <th>0.1601</th>\n",
       "      <th>0.3109</th>\n",
       "      <th>0.2111</th>\n",
       "      <th>...</th>\n",
       "      <th>0.0027</th>\n",
       "      <th>0.0065</th>\n",
       "      <th>0.0159</th>\n",
       "      <th>0.0072</th>\n",
       "      <th>0.0167</th>\n",
       "      <th>0.0180</th>\n",
       "      <th>0.0084</th>\n",
       "      <th>0.0090</th>\n",
       "      <th>0.0032</th>\n",
       "      <th>R</th>\n",
       "    </tr>\n",
       "  </thead>\n",
       "  <tbody>\n",
       "    <tr>\n",
       "      <th>0</th>\n",
       "      <td>0.0453</td>\n",
       "      <td>0.0523</td>\n",
       "      <td>0.0843</td>\n",
       "      <td>0.0689</td>\n",
       "      <td>0.1183</td>\n",
       "      <td>0.2583</td>\n",
       "      <td>0.2156</td>\n",
       "      <td>0.3481</td>\n",
       "      <td>0.3337</td>\n",
       "      <td>0.2872</td>\n",
       "      <td>...</td>\n",
       "      <td>0.0084</td>\n",
       "      <td>0.0089</td>\n",
       "      <td>0.0048</td>\n",
       "      <td>0.0094</td>\n",
       "      <td>0.0191</td>\n",
       "      <td>0.0140</td>\n",
       "      <td>0.0049</td>\n",
       "      <td>0.0052</td>\n",
       "      <td>0.0044</td>\n",
       "      <td>R</td>\n",
       "    </tr>\n",
       "    <tr>\n",
       "      <th>1</th>\n",
       "      <td>0.0262</td>\n",
       "      <td>0.0582</td>\n",
       "      <td>0.1099</td>\n",
       "      <td>0.1083</td>\n",
       "      <td>0.0974</td>\n",
       "      <td>0.2280</td>\n",
       "      <td>0.2431</td>\n",
       "      <td>0.3771</td>\n",
       "      <td>0.5598</td>\n",
       "      <td>0.6194</td>\n",
       "      <td>...</td>\n",
       "      <td>0.0232</td>\n",
       "      <td>0.0166</td>\n",
       "      <td>0.0095</td>\n",
       "      <td>0.0180</td>\n",
       "      <td>0.0244</td>\n",
       "      <td>0.0316</td>\n",
       "      <td>0.0164</td>\n",
       "      <td>0.0095</td>\n",
       "      <td>0.0078</td>\n",
       "      <td>R</td>\n",
       "    </tr>\n",
       "    <tr>\n",
       "      <th>2</th>\n",
       "      <td>0.0100</td>\n",
       "      <td>0.0171</td>\n",
       "      <td>0.0623</td>\n",
       "      <td>0.0205</td>\n",
       "      <td>0.0205</td>\n",
       "      <td>0.0368</td>\n",
       "      <td>0.1098</td>\n",
       "      <td>0.1276</td>\n",
       "      <td>0.0598</td>\n",
       "      <td>0.1264</td>\n",
       "      <td>...</td>\n",
       "      <td>0.0121</td>\n",
       "      <td>0.0036</td>\n",
       "      <td>0.0150</td>\n",
       "      <td>0.0085</td>\n",
       "      <td>0.0073</td>\n",
       "      <td>0.0050</td>\n",
       "      <td>0.0044</td>\n",
       "      <td>0.0040</td>\n",
       "      <td>0.0117</td>\n",
       "      <td>R</td>\n",
       "    </tr>\n",
       "    <tr>\n",
       "      <th>3</th>\n",
       "      <td>0.0762</td>\n",
       "      <td>0.0666</td>\n",
       "      <td>0.0481</td>\n",
       "      <td>0.0394</td>\n",
       "      <td>0.0590</td>\n",
       "      <td>0.0649</td>\n",
       "      <td>0.1209</td>\n",
       "      <td>0.2467</td>\n",
       "      <td>0.3564</td>\n",
       "      <td>0.4459</td>\n",
       "      <td>...</td>\n",
       "      <td>0.0031</td>\n",
       "      <td>0.0054</td>\n",
       "      <td>0.0105</td>\n",
       "      <td>0.0110</td>\n",
       "      <td>0.0015</td>\n",
       "      <td>0.0072</td>\n",
       "      <td>0.0048</td>\n",
       "      <td>0.0107</td>\n",
       "      <td>0.0094</td>\n",
       "      <td>R</td>\n",
       "    </tr>\n",
       "    <tr>\n",
       "      <th>4</th>\n",
       "      <td>0.0286</td>\n",
       "      <td>0.0453</td>\n",
       "      <td>0.0277</td>\n",
       "      <td>0.0174</td>\n",
       "      <td>0.0384</td>\n",
       "      <td>0.0990</td>\n",
       "      <td>0.1201</td>\n",
       "      <td>0.1833</td>\n",
       "      <td>0.2105</td>\n",
       "      <td>0.3039</td>\n",
       "      <td>...</td>\n",
       "      <td>0.0045</td>\n",
       "      <td>0.0014</td>\n",
       "      <td>0.0038</td>\n",
       "      <td>0.0013</td>\n",
       "      <td>0.0089</td>\n",
       "      <td>0.0057</td>\n",
       "      <td>0.0027</td>\n",
       "      <td>0.0051</td>\n",
       "      <td>0.0062</td>\n",
       "      <td>R</td>\n",
       "    </tr>\n",
       "  </tbody>\n",
       "</table>\n",
       "<p>5 rows × 61 columns</p>\n",
       "</div>"
      ],
      "text/plain": [
       "   0.0200  0.0371  0.0428  0.0207  0.0954  0.0986  0.1539  0.1601  0.3109  \\\n",
       "0  0.0453  0.0523  0.0843  0.0689  0.1183  0.2583  0.2156  0.3481  0.3337   \n",
       "1  0.0262  0.0582  0.1099  0.1083  0.0974  0.2280  0.2431  0.3771  0.5598   \n",
       "2  0.0100  0.0171  0.0623  0.0205  0.0205  0.0368  0.1098  0.1276  0.0598   \n",
       "3  0.0762  0.0666  0.0481  0.0394  0.0590  0.0649  0.1209  0.2467  0.3564   \n",
       "4  0.0286  0.0453  0.0277  0.0174  0.0384  0.0990  0.1201  0.1833  0.2105   \n",
       "\n",
       "   0.2111 ...  0.0027  0.0065  0.0159  0.0072  0.0167  0.0180  0.0084  0.0090  \\\n",
       "0  0.2872 ...  0.0084  0.0089  0.0048  0.0094  0.0191  0.0140  0.0049  0.0052   \n",
       "1  0.6194 ...  0.0232  0.0166  0.0095  0.0180  0.0244  0.0316  0.0164  0.0095   \n",
       "2  0.1264 ...  0.0121  0.0036  0.0150  0.0085  0.0073  0.0050  0.0044  0.0040   \n",
       "3  0.4459 ...  0.0031  0.0054  0.0105  0.0110  0.0015  0.0072  0.0048  0.0107   \n",
       "4  0.3039 ...  0.0045  0.0014  0.0038  0.0013  0.0089  0.0057  0.0027  0.0051   \n",
       "\n",
       "   0.0032  R  \n",
       "0  0.0044  R  \n",
       "1  0.0078  R  \n",
       "2  0.0117  R  \n",
       "3  0.0094  R  \n",
       "4  0.0062  R  \n",
       "\n",
       "[5 rows x 61 columns]"
      ]
     },
     "execution_count": 10,
     "metadata": {},
     "output_type": "execute_result"
    }
   ],
   "source": [
    "dataset.head()"
   ]
  },
  {
   "cell_type": "code",
   "execution_count": 11,
   "metadata": {},
   "outputs": [
    {
     "data": {
      "text/html": [
       "<div>\n",
       "<style scoped>\n",
       "    .dataframe tbody tr th:only-of-type {\n",
       "        vertical-align: middle;\n",
       "    }\n",
       "\n",
       "    .dataframe tbody tr th {\n",
       "        vertical-align: top;\n",
       "    }\n",
       "\n",
       "    .dataframe thead th {\n",
       "        text-align: right;\n",
       "    }\n",
       "</style>\n",
       "<table border=\"1\" class=\"dataframe\">\n",
       "  <thead>\n",
       "    <tr style=\"text-align: right;\">\n",
       "      <th></th>\n",
       "      <th>0.0200</th>\n",
       "      <th>0.0371</th>\n",
       "      <th>0.0428</th>\n",
       "      <th>0.0207</th>\n",
       "      <th>0.0954</th>\n",
       "      <th>0.0986</th>\n",
       "      <th>0.1539</th>\n",
       "      <th>0.1601</th>\n",
       "      <th>0.3109</th>\n",
       "      <th>0.2111</th>\n",
       "      <th>...</th>\n",
       "      <th>0.0232</th>\n",
       "      <th>0.0027</th>\n",
       "      <th>0.0065</th>\n",
       "      <th>0.0159</th>\n",
       "      <th>0.0072</th>\n",
       "      <th>0.0167</th>\n",
       "      <th>0.0180</th>\n",
       "      <th>0.0084</th>\n",
       "      <th>0.0090</th>\n",
       "      <th>0.0032</th>\n",
       "    </tr>\n",
       "  </thead>\n",
       "  <tbody>\n",
       "    <tr>\n",
       "      <th>count</th>\n",
       "      <td>207.000000</td>\n",
       "      <td>207.000000</td>\n",
       "      <td>207.000000</td>\n",
       "      <td>207.000000</td>\n",
       "      <td>207.000000</td>\n",
       "      <td>207.000000</td>\n",
       "      <td>207.000000</td>\n",
       "      <td>207.000000</td>\n",
       "      <td>207.000000</td>\n",
       "      <td>207.000000</td>\n",
       "      <td>...</td>\n",
       "      <td>207.000000</td>\n",
       "      <td>207.000000</td>\n",
       "      <td>207.000000</td>\n",
       "      <td>207.000000</td>\n",
       "      <td>207.000000</td>\n",
       "      <td>207.000000</td>\n",
       "      <td>207.000000</td>\n",
       "      <td>207.000000</td>\n",
       "      <td>207.000000</td>\n",
       "      <td>207.000000</td>\n",
       "    </tr>\n",
       "    <tr>\n",
       "      <th>mean</th>\n",
       "      <td>0.029208</td>\n",
       "      <td>0.038443</td>\n",
       "      <td>0.043837</td>\n",
       "      <td>0.054053</td>\n",
       "      <td>0.075105</td>\n",
       "      <td>0.104599</td>\n",
       "      <td>0.121591</td>\n",
       "      <td>0.134677</td>\n",
       "      <td>0.177361</td>\n",
       "      <td>0.208245</td>\n",
       "      <td>...</td>\n",
       "      <td>0.016034</td>\n",
       "      <td>0.013472</td>\n",
       "      <td>0.010729</td>\n",
       "      <td>0.010917</td>\n",
       "      <td>0.009300</td>\n",
       "      <td>0.008181</td>\n",
       "      <td>0.007771</td>\n",
       "      <td>0.007947</td>\n",
       "      <td>0.007936</td>\n",
       "      <td>0.006523</td>\n",
       "    </tr>\n",
       "    <tr>\n",
       "      <th>std</th>\n",
       "      <td>0.023038</td>\n",
       "      <td>0.033040</td>\n",
       "      <td>0.038521</td>\n",
       "      <td>0.046583</td>\n",
       "      <td>0.055669</td>\n",
       "      <td>0.059247</td>\n",
       "      <td>0.061897</td>\n",
       "      <td>0.085340</td>\n",
       "      <td>0.118311</td>\n",
       "      <td>0.134741</td>\n",
       "      <td>...</td>\n",
       "      <td>0.012027</td>\n",
       "      <td>0.009628</td>\n",
       "      <td>0.007071</td>\n",
       "      <td>0.007310</td>\n",
       "      <td>0.007103</td>\n",
       "      <td>0.005719</td>\n",
       "      <td>0.005756</td>\n",
       "      <td>0.006485</td>\n",
       "      <td>0.006196</td>\n",
       "      <td>0.005038</td>\n",
       "    </tr>\n",
       "    <tr>\n",
       "      <th>min</th>\n",
       "      <td>0.001500</td>\n",
       "      <td>0.000600</td>\n",
       "      <td>0.001500</td>\n",
       "      <td>0.005800</td>\n",
       "      <td>0.006700</td>\n",
       "      <td>0.010200</td>\n",
       "      <td>0.003300</td>\n",
       "      <td>0.005500</td>\n",
       "      <td>0.007500</td>\n",
       "      <td>0.011300</td>\n",
       "      <td>...</td>\n",
       "      <td>0.000000</td>\n",
       "      <td>0.000800</td>\n",
       "      <td>0.000500</td>\n",
       "      <td>0.001000</td>\n",
       "      <td>0.000600</td>\n",
       "      <td>0.000400</td>\n",
       "      <td>0.000300</td>\n",
       "      <td>0.000300</td>\n",
       "      <td>0.000100</td>\n",
       "      <td>0.000600</td>\n",
       "    </tr>\n",
       "    <tr>\n",
       "      <th>25%</th>\n",
       "      <td>0.013300</td>\n",
       "      <td>0.016400</td>\n",
       "      <td>0.018900</td>\n",
       "      <td>0.024450</td>\n",
       "      <td>0.037700</td>\n",
       "      <td>0.066950</td>\n",
       "      <td>0.080600</td>\n",
       "      <td>0.080350</td>\n",
       "      <td>0.096750</td>\n",
       "      <td>0.111150</td>\n",
       "      <td>...</td>\n",
       "      <td>0.008350</td>\n",
       "      <td>0.007350</td>\n",
       "      <td>0.005050</td>\n",
       "      <td>0.005350</td>\n",
       "      <td>0.004100</td>\n",
       "      <td>0.004400</td>\n",
       "      <td>0.003700</td>\n",
       "      <td>0.003600</td>\n",
       "      <td>0.003650</td>\n",
       "      <td>0.003100</td>\n",
       "    </tr>\n",
       "    <tr>\n",
       "      <th>50%</th>\n",
       "      <td>0.022800</td>\n",
       "      <td>0.030800</td>\n",
       "      <td>0.034200</td>\n",
       "      <td>0.044100</td>\n",
       "      <td>0.062000</td>\n",
       "      <td>0.092100</td>\n",
       "      <td>0.105600</td>\n",
       "      <td>0.111900</td>\n",
       "      <td>0.152200</td>\n",
       "      <td>0.181000</td>\n",
       "      <td>...</td>\n",
       "      <td>0.013800</td>\n",
       "      <td>0.011500</td>\n",
       "      <td>0.009600</td>\n",
       "      <td>0.009300</td>\n",
       "      <td>0.007500</td>\n",
       "      <td>0.006800</td>\n",
       "      <td>0.005900</td>\n",
       "      <td>0.005800</td>\n",
       "      <td>0.006300</td>\n",
       "      <td>0.005300</td>\n",
       "    </tr>\n",
       "    <tr>\n",
       "      <th>75%</th>\n",
       "      <td>0.035800</td>\n",
       "      <td>0.048100</td>\n",
       "      <td>0.058200</td>\n",
       "      <td>0.065700</td>\n",
       "      <td>0.101050</td>\n",
       "      <td>0.134150</td>\n",
       "      <td>0.153050</td>\n",
       "      <td>0.169800</td>\n",
       "      <td>0.231500</td>\n",
       "      <td>0.269000</td>\n",
       "      <td>...</td>\n",
       "      <td>0.020700</td>\n",
       "      <td>0.016750</td>\n",
       "      <td>0.014900</td>\n",
       "      <td>0.014450</td>\n",
       "      <td>0.012100</td>\n",
       "      <td>0.010350</td>\n",
       "      <td>0.010350</td>\n",
       "      <td>0.010400</td>\n",
       "      <td>0.010350</td>\n",
       "      <td>0.008550</td>\n",
       "    </tr>\n",
       "    <tr>\n",
       "      <th>max</th>\n",
       "      <td>0.137100</td>\n",
       "      <td>0.233900</td>\n",
       "      <td>0.305900</td>\n",
       "      <td>0.426400</td>\n",
       "      <td>0.401000</td>\n",
       "      <td>0.382300</td>\n",
       "      <td>0.372900</td>\n",
       "      <td>0.459000</td>\n",
       "      <td>0.682800</td>\n",
       "      <td>0.710600</td>\n",
       "      <td>...</td>\n",
       "      <td>0.100400</td>\n",
       "      <td>0.070900</td>\n",
       "      <td>0.039000</td>\n",
       "      <td>0.035200</td>\n",
       "      <td>0.044700</td>\n",
       "      <td>0.039400</td>\n",
       "      <td>0.035500</td>\n",
       "      <td>0.044000</td>\n",
       "      <td>0.036400</td>\n",
       "      <td>0.043900</td>\n",
       "    </tr>\n",
       "  </tbody>\n",
       "</table>\n",
       "<p>8 rows × 60 columns</p>\n",
       "</div>"
      ],
      "text/plain": [
       "           0.0200      0.0371      0.0428      0.0207      0.0954      0.0986  \\\n",
       "count  207.000000  207.000000  207.000000  207.000000  207.000000  207.000000   \n",
       "mean     0.029208    0.038443    0.043837    0.054053    0.075105    0.104599   \n",
       "std      0.023038    0.033040    0.038521    0.046583    0.055669    0.059247   \n",
       "min      0.001500    0.000600    0.001500    0.005800    0.006700    0.010200   \n",
       "25%      0.013300    0.016400    0.018900    0.024450    0.037700    0.066950   \n",
       "50%      0.022800    0.030800    0.034200    0.044100    0.062000    0.092100   \n",
       "75%      0.035800    0.048100    0.058200    0.065700    0.101050    0.134150   \n",
       "max      0.137100    0.233900    0.305900    0.426400    0.401000    0.382300   \n",
       "\n",
       "           0.1539      0.1601      0.3109      0.2111     ...          0.0232  \\\n",
       "count  207.000000  207.000000  207.000000  207.000000     ...      207.000000   \n",
       "mean     0.121591    0.134677    0.177361    0.208245     ...        0.016034   \n",
       "std      0.061897    0.085340    0.118311    0.134741     ...        0.012027   \n",
       "min      0.003300    0.005500    0.007500    0.011300     ...        0.000000   \n",
       "25%      0.080600    0.080350    0.096750    0.111150     ...        0.008350   \n",
       "50%      0.105600    0.111900    0.152200    0.181000     ...        0.013800   \n",
       "75%      0.153050    0.169800    0.231500    0.269000     ...        0.020700   \n",
       "max      0.372900    0.459000    0.682800    0.710600     ...        0.100400   \n",
       "\n",
       "           0.0027      0.0065      0.0159      0.0072      0.0167      0.0180  \\\n",
       "count  207.000000  207.000000  207.000000  207.000000  207.000000  207.000000   \n",
       "mean     0.013472    0.010729    0.010917    0.009300    0.008181    0.007771   \n",
       "std      0.009628    0.007071    0.007310    0.007103    0.005719    0.005756   \n",
       "min      0.000800    0.000500    0.001000    0.000600    0.000400    0.000300   \n",
       "25%      0.007350    0.005050    0.005350    0.004100    0.004400    0.003700   \n",
       "50%      0.011500    0.009600    0.009300    0.007500    0.006800    0.005900   \n",
       "75%      0.016750    0.014900    0.014450    0.012100    0.010350    0.010350   \n",
       "max      0.070900    0.039000    0.035200    0.044700    0.039400    0.035500   \n",
       "\n",
       "           0.0084      0.0090      0.0032  \n",
       "count  207.000000  207.000000  207.000000  \n",
       "mean     0.007947    0.007936    0.006523  \n",
       "std      0.006485    0.006196    0.005038  \n",
       "min      0.000300    0.000100    0.000600  \n",
       "25%      0.003600    0.003650    0.003100  \n",
       "50%      0.005800    0.006300    0.005300  \n",
       "75%      0.010400    0.010350    0.008550  \n",
       "max      0.044000    0.036400    0.043900  \n",
       "\n",
       "[8 rows x 60 columns]"
      ]
     },
     "execution_count": 11,
     "metadata": {},
     "output_type": "execute_result"
    }
   ],
   "source": [
    "dataset.describe()"
   ]
  },
  {
   "cell_type": "code",
   "execution_count": 13,
   "metadata": {},
   "outputs": [
    {
     "data": {
      "text/plain": [
       "R\n",
       "M    111\n",
       "R     96\n",
       "dtype: int64"
      ]
     },
     "execution_count": 13,
     "metadata": {},
     "output_type": "execute_result"
    }
   ],
   "source": [
    "dataset.groupby(\"R\").size()"
   ]
  },
  {
   "cell_type": "markdown",
   "metadata": {},
   "source": [
    "### b) Data Visualization"
   ]
  },
  {
   "cell_type": "code",
   "execution_count": 16,
   "metadata": {},
   "outputs": [
    {
     "data": {
      "text/plain": [
       "array([[<matplotlib.axes._subplots.AxesSubplot object at 0x00000262426F0908>,\n",
       "        <matplotlib.axes._subplots.AxesSubplot object at 0x00000262438983C8>,\n",
       "        <matplotlib.axes._subplots.AxesSubplot object at 0x0000026243F64F28>,\n",
       "        <matplotlib.axes._subplots.AxesSubplot object at 0x0000026243E01F28>,\n",
       "        <matplotlib.axes._subplots.AxesSubplot object at 0x0000026244005358>,\n",
       "        <matplotlib.axes._subplots.AxesSubplot object at 0x0000026244005390>,\n",
       "        <matplotlib.axes._subplots.AxesSubplot object at 0x00000262440440B8>,\n",
       "        <matplotlib.axes._subplots.AxesSubplot object at 0x0000026244064748>],\n",
       "       [<matplotlib.axes._subplots.AxesSubplot object at 0x0000026244087DD8>,\n",
       "        <matplotlib.axes._subplots.AxesSubplot object at 0x00000262440AE4A8>,\n",
       "        <matplotlib.axes._subplots.AxesSubplot object at 0x00000262440CDB38>,\n",
       "        <matplotlib.axes._subplots.AxesSubplot object at 0x0000026244102208>,\n",
       "        <matplotlib.axes._subplots.AxesSubplot object at 0x000002624412A898>,\n",
       "        <matplotlib.axes._subplots.AxesSubplot object at 0x0000026244150F28>,\n",
       "        <matplotlib.axes._subplots.AxesSubplot object at 0x00000262441845F8>,\n",
       "        <matplotlib.axes._subplots.AxesSubplot object at 0x00000262441ABC88>],\n",
       "       [<matplotlib.axes._subplots.AxesSubplot object at 0x00000262441DC358>,\n",
       "        <matplotlib.axes._subplots.AxesSubplot object at 0x00000262442039E8>,\n",
       "        <matplotlib.axes._subplots.AxesSubplot object at 0x00000262442370B8>,\n",
       "        <matplotlib.axes._subplots.AxesSubplot object at 0x0000026244260748>,\n",
       "        <matplotlib.axes._subplots.AxesSubplot object at 0x0000026244288DD8>,\n",
       "        <matplotlib.axes._subplots.AxesSubplot object at 0x00000262442B94A8>,\n",
       "        <matplotlib.axes._subplots.AxesSubplot object at 0x00000262442E2B38>,\n",
       "        <matplotlib.axes._subplots.AxesSubplot object at 0x0000026244313208>],\n",
       "       [<matplotlib.axes._subplots.AxesSubplot object at 0x000002624433A898>,\n",
       "        <matplotlib.axes._subplots.AxesSubplot object at 0x0000026244363F28>,\n",
       "        <matplotlib.axes._subplots.AxesSubplot object at 0x00000262443965F8>,\n",
       "        <matplotlib.axes._subplots.AxesSubplot object at 0x00000262443BFC88>,\n",
       "        <matplotlib.axes._subplots.AxesSubplot object at 0x00000262443EF358>,\n",
       "        <matplotlib.axes._subplots.AxesSubplot object at 0x00000262444169E8>,\n",
       "        <matplotlib.axes._subplots.AxesSubplot object at 0x000002624444A0B8>,\n",
       "        <matplotlib.axes._subplots.AxesSubplot object at 0x0000026244471748>],\n",
       "       [<matplotlib.axes._subplots.AxesSubplot object at 0x0000026244499DD8>,\n",
       "        <matplotlib.axes._subplots.AxesSubplot object at 0x00000262444CB4A8>,\n",
       "        <matplotlib.axes._subplots.AxesSubplot object at 0x00000262444F3B38>,\n",
       "        <matplotlib.axes._subplots.AxesSubplot object at 0x0000026244525208>,\n",
       "        <matplotlib.axes._subplots.AxesSubplot object at 0x000002624454E898>,\n",
       "        <matplotlib.axes._subplots.AxesSubplot object at 0x0000026244576F28>,\n",
       "        <matplotlib.axes._subplots.AxesSubplot object at 0x00000262445A85F8>,\n",
       "        <matplotlib.axes._subplots.AxesSubplot object at 0x00000262445CFC88>],\n",
       "       [<matplotlib.axes._subplots.AxesSubplot object at 0x0000026244601358>,\n",
       "        <matplotlib.axes._subplots.AxesSubplot object at 0x00000262446289E8>,\n",
       "        <matplotlib.axes._subplots.AxesSubplot object at 0x00000262446590B8>,\n",
       "        <matplotlib.axes._subplots.AxesSubplot object at 0x0000026244681748>,\n",
       "        <matplotlib.axes._subplots.AxesSubplot object at 0x00000262446ABDD8>,\n",
       "        <matplotlib.axes._subplots.AxesSubplot object at 0x00000262446DD4A8>,\n",
       "        <matplotlib.axes._subplots.AxesSubplot object at 0x0000026244704B38>,\n",
       "        <matplotlib.axes._subplots.AxesSubplot object at 0x0000026244738208>],\n",
       "       [<matplotlib.axes._subplots.AxesSubplot object at 0x000002624475F898>,\n",
       "        <matplotlib.axes._subplots.AxesSubplot object at 0x0000026244788F28>,\n",
       "        <matplotlib.axes._subplots.AxesSubplot object at 0x00000262447BA5F8>,\n",
       "        <matplotlib.axes._subplots.AxesSubplot object at 0x00000262457B2C88>,\n",
       "        <matplotlib.axes._subplots.AxesSubplot object at 0x00000262457E3358>,\n",
       "        <matplotlib.axes._subplots.AxesSubplot object at 0x000002624580A9E8>,\n",
       "        <matplotlib.axes._subplots.AxesSubplot object at 0x00000262458400B8>,\n",
       "        <matplotlib.axes._subplots.AxesSubplot object at 0x0000026245864748>],\n",
       "       [<matplotlib.axes._subplots.AxesSubplot object at 0x000002624588CDD8>,\n",
       "        <matplotlib.axes._subplots.AxesSubplot object at 0x00000262458C04A8>,\n",
       "        <matplotlib.axes._subplots.AxesSubplot object at 0x00000262458E6B38>,\n",
       "        <matplotlib.axes._subplots.AxesSubplot object at 0x0000026245919208>,\n",
       "        <matplotlib.axes._subplots.AxesSubplot object at 0x0000026245943898>,\n",
       "        <matplotlib.axes._subplots.AxesSubplot object at 0x0000026245969F28>,\n",
       "        <matplotlib.axes._subplots.AxesSubplot object at 0x000002624599B5F8>,\n",
       "        <matplotlib.axes._subplots.AxesSubplot object at 0x00000262459C3C88>]],\n",
       "      dtype=object)"
      ]
     },
     "execution_count": 16,
     "metadata": {},
     "output_type": "execute_result"
    },
    {
     "data": {
      "image/png": "[encoded data removed]",
      "text/plain": [
       "<Figure size 432x288 with 64 Axes>"
      ]
     },
     "metadata": {},
     "output_type": "display_data"
    }
   ],
   "source": [
    "dataset.hist(sharex=False, xlabelsize=1, ylabelsize=1)"
   ]
  },
  {
   "cell_type": "code",
   "execution_count": 19,
   "metadata": {},
   "outputs": [
    {
     "data": {
      "text/plain": [
       "array([[<matplotlib.axes._subplots.AxesSubplot object at 0x000002624828CB00>,\n",
       "        <matplotlib.axes._subplots.AxesSubplot object at 0x0000026248462898>,\n",
       "        <matplotlib.axes._subplots.AxesSubplot object at 0x00000262484AE780>,\n",
       "        <matplotlib.axes._subplots.AxesSubplot object at 0x00000262484C7E10>,\n",
       "        <matplotlib.axes._subplots.AxesSubplot object at 0x00000262484EE4E0>,\n",
       "        <matplotlib.axes._subplots.AxesSubplot object at 0x00000262484EE518>,\n",
       "        <matplotlib.axes._subplots.AxesSubplot object at 0x0000026248543240>,\n",
       "        <matplotlib.axes._subplots.AxesSubplot object at 0x000002624856A8D0>],\n",
       "       [<matplotlib.axes._subplots.AxesSubplot object at 0x0000026248593F60>,\n",
       "        <matplotlib.axes._subplots.AxesSubplot object at 0x00000262485C5630>,\n",
       "        <matplotlib.axes._subplots.AxesSubplot object at 0x00000262485ECCC0>,\n",
       "        <matplotlib.axes._subplots.AxesSubplot object at 0x000002624861F390>,\n",
       "        <matplotlib.axes._subplots.AxesSubplot object at 0x0000026248646A20>,\n",
       "        <matplotlib.axes._subplots.AxesSubplot object at 0x00000262486780F0>,\n",
       "        <matplotlib.axes._subplots.AxesSubplot object at 0x00000262486A1780>,\n",
       "        <matplotlib.axes._subplots.AxesSubplot object at 0x00000262486CAE10>],\n",
       "       [<matplotlib.axes._subplots.AxesSubplot object at 0x00000262486FB4E0>,\n",
       "        <matplotlib.axes._subplots.AxesSubplot object at 0x0000026248722B70>,\n",
       "        <matplotlib.axes._subplots.AxesSubplot object at 0x0000026248753240>,\n",
       "        <matplotlib.axes._subplots.AxesSubplot object at 0x000002624877C8D0>,\n",
       "        <matplotlib.axes._subplots.AxesSubplot object at 0x00000262487A4F60>,\n",
       "        <matplotlib.axes._subplots.AxesSubplot object at 0x00000262487D4630>,\n",
       "        <matplotlib.axes._subplots.AxesSubplot object at 0x00000262487FFCC0>,\n",
       "        <matplotlib.axes._subplots.AxesSubplot object at 0x0000026248831390>],\n",
       "       [<matplotlib.axes._subplots.AxesSubplot object at 0x0000026248857A20>,\n",
       "        <matplotlib.axes._subplots.AxesSubplot object at 0x000002624888B0F0>,\n",
       "        <matplotlib.axes._subplots.AxesSubplot object at 0x00000262488B5780>,\n",
       "        <matplotlib.axes._subplots.AxesSubplot object at 0x00000262488DBE10>,\n",
       "        <matplotlib.axes._subplots.AxesSubplot object at 0x000002624890B4E0>,\n",
       "        <matplotlib.axes._subplots.AxesSubplot object at 0x0000026248936B70>,\n",
       "        <matplotlib.axes._subplots.AxesSubplot object at 0x0000026248967240>,\n",
       "        <matplotlib.axes._subplots.AxesSubplot object at 0x000002624898D8D0>],\n",
       "       [<matplotlib.axes._subplots.AxesSubplot object at 0x00000262489B9F60>,\n",
       "        <matplotlib.axes._subplots.AxesSubplot object at 0x00000262489E9630>,\n",
       "        <matplotlib.axes._subplots.AxesSubplot object at 0x0000026248A0FCC0>,\n",
       "        <matplotlib.axes._subplots.AxesSubplot object at 0x0000026248A42390>,\n",
       "        <matplotlib.axes._subplots.AxesSubplot object at 0x0000026248A6AA20>,\n",
       "        <matplotlib.axes._subplots.AxesSubplot object at 0x0000026248A9C0F0>,\n",
       "        <matplotlib.axes._subplots.AxesSubplot object at 0x0000026248AC6780>,\n",
       "        <matplotlib.axes._subplots.AxesSubplot object at 0x0000026248AEEE10>],\n",
       "       [<matplotlib.axes._subplots.AxesSubplot object at 0x0000026248B1F4E0>,\n",
       "        <matplotlib.axes._subplots.AxesSubplot object at 0x0000026248B45B70>,\n",
       "        <matplotlib.axes._subplots.AxesSubplot object at 0x0000026248B78240>,\n",
       "        <matplotlib.axes._subplots.AxesSubplot object at 0x0000026248BA08D0>,\n",
       "        <matplotlib.axes._subplots.AxesSubplot object at 0x0000026248BC8F60>,\n",
       "        <matplotlib.axes._subplots.AxesSubplot object at 0x0000026248BF9630>,\n",
       "        <matplotlib.axes._subplots.AxesSubplot object at 0x0000026248C23CC0>,\n",
       "        <matplotlib.axes._subplots.AxesSubplot object at 0x0000026248C54390>],\n",
       "       [<matplotlib.axes._subplots.AxesSubplot object at 0x0000026248C7CA20>,\n",
       "        <matplotlib.axes._subplots.AxesSubplot object at 0x0000026248CB10F0>,\n",
       "        <matplotlib.axes._subplots.AxesSubplot object at 0x0000026248CD7780>,\n",
       "        <matplotlib.axes._subplots.AxesSubplot object at 0x0000026248D00E10>,\n",
       "        <matplotlib.axes._subplots.AxesSubplot object at 0x0000026248D324E0>,\n",
       "        <matplotlib.axes._subplots.AxesSubplot object at 0x0000026248D59B70>,\n",
       "        <matplotlib.axes._subplots.AxesSubplot object at 0x0000026248D8C240>,\n",
       "        <matplotlib.axes._subplots.AxesSubplot object at 0x0000026248DB68D0>],\n",
       "       [<matplotlib.axes._subplots.AxesSubplot object at 0x0000026248DDCF60>,\n",
       "        <matplotlib.axes._subplots.AxesSubplot object at 0x0000026248E0D630>,\n",
       "        <matplotlib.axes._subplots.AxesSubplot object at 0x0000026248E35CC0>,\n",
       "        <matplotlib.axes._subplots.AxesSubplot object at 0x0000026248E66390>,\n",
       "        <matplotlib.axes._subplots.AxesSubplot object at 0x0000026248E8EA20>,\n",
       "        <matplotlib.axes._subplots.AxesSubplot object at 0x0000026248EC20F0>,\n",
       "        <matplotlib.axes._subplots.AxesSubplot object at 0x0000026248EEA780>,\n",
       "        <matplotlib.axes._subplots.AxesSubplot object at 0x0000026248F12E10>]],\n",
       "      dtype=object)"
      ]
     },
     "execution_count": 19,
     "metadata": {},
     "output_type": "execute_result"
    },
    {
     "data": {
      "image/png": "[encoded data removed]",
      "text/plain": [
       "<Figure size 432x288 with 64 Axes>"
      ]
     },
     "metadata": {},
     "output_type": "display_data"
    }
   ],
   "source": [
    "dataset.plot(kind=\"density\", subplots=True, layout=(8,8), sharex=False, legend=False, fontsize=1)"
   ]
  },
  {
   "cell_type": "code",
   "execution_count": 21,
   "metadata": {},
   "outputs": [
    {
     "data": {
      "text/plain": [
       "0.0200      AxesSubplot(0.125,0.799681;0.0824468x0.0803191)\n",
       "0.0371    AxesSubplot(0.223936,0.799681;0.0824468x0.0803...\n",
       "0.0428    AxesSubplot(0.322872,0.799681;0.0824468x0.0803...\n",
       "0.0207    AxesSubplot(0.421809,0.799681;0.0824468x0.0803...\n",
       "0.0954    AxesSubplot(0.520745,0.799681;0.0824468x0.0803...\n",
       "0.0986    AxesSubplot(0.619681,0.799681;0.0824468x0.0803...\n",
       "0.1539    AxesSubplot(0.718617,0.799681;0.0824468x0.0803...\n",
       "0.1601    AxesSubplot(0.817553,0.799681;0.0824468x0.0803...\n",
       "0.3109      AxesSubplot(0.125,0.703298;0.0824468x0.0803191)\n",
       "0.2111    AxesSubplot(0.223936,0.703298;0.0824468x0.0803...\n",
       "0.1609    AxesSubplot(0.322872,0.703298;0.0824468x0.0803...\n",
       "0.1582    AxesSubplot(0.421809,0.703298;0.0824468x0.0803...\n",
       "0.2238    AxesSubplot(0.520745,0.703298;0.0824468x0.0803...\n",
       "0.0645    AxesSubplot(0.619681,0.703298;0.0824468x0.0803...\n",
       "0.0660    AxesSubplot(0.718617,0.703298;0.0824468x0.0803...\n",
       "0.2273    AxesSubplot(0.817553,0.703298;0.0824468x0.0803...\n",
       "0.3100      AxesSubplot(0.125,0.606915;0.0824468x0.0803191)\n",
       "0.2999    AxesSubplot(0.223936,0.606915;0.0824468x0.0803...\n",
       "0.5078    AxesSubplot(0.322872,0.606915;0.0824468x0.0803...\n",
       "0.4797    AxesSubplot(0.421809,0.606915;0.0824468x0.0803...\n",
       "0.5783    AxesSubplot(0.520745,0.606915;0.0824468x0.0803...\n",
       "0.5071    AxesSubplot(0.619681,0.606915;0.0824468x0.0803...\n",
       "0.4328    AxesSubplot(0.718617,0.606915;0.0824468x0.0803...\n",
       "0.5550    AxesSubplot(0.817553,0.606915;0.0824468x0.0803...\n",
       "0.6711      AxesSubplot(0.125,0.510532;0.0824468x0.0803191)\n",
       "0.6415    AxesSubplot(0.223936,0.510532;0.0824468x0.0803...\n",
       "0.7104    AxesSubplot(0.322872,0.510532;0.0824468x0.0803...\n",
       "0.8080    AxesSubplot(0.421809,0.510532;0.0824468x0.0803...\n",
       "0.6791    AxesSubplot(0.520745,0.510532;0.0824468x0.0803...\n",
       "0.3857    AxesSubplot(0.619681,0.510532;0.0824468x0.0803...\n",
       "0.1307    AxesSubplot(0.718617,0.510532;0.0824468x0.0803...\n",
       "0.2604    AxesSubplot(0.817553,0.510532;0.0824468x0.0803...\n",
       "0.5121      AxesSubplot(0.125,0.414149;0.0824468x0.0803191)\n",
       "0.7547    AxesSubplot(0.223936,0.414149;0.0824468x0.0803...\n",
       "0.8537    AxesSubplot(0.322872,0.414149;0.0824468x0.0803...\n",
       "0.8507    AxesSubplot(0.421809,0.414149;0.0824468x0.0803...\n",
       "0.6692    AxesSubplot(0.520745,0.414149;0.0824468x0.0803...\n",
       "0.6097    AxesSubplot(0.619681,0.414149;0.0824468x0.0803...\n",
       "0.4943    AxesSubplot(0.718617,0.414149;0.0824468x0.0803...\n",
       "0.2744    AxesSubplot(0.817553,0.414149;0.0824468x0.0803...\n",
       "0.0510      AxesSubplot(0.125,0.317766;0.0824468x0.0803191)\n",
       "0.2834    AxesSubplot(0.223936,0.317766;0.0824468x0.0803...\n",
       "0.2825    AxesSubplot(0.322872,0.317766;0.0824468x0.0803...\n",
       "0.4256    AxesSubplot(0.421809,0.317766;0.0824468x0.0803...\n",
       "0.2641    AxesSubplot(0.520745,0.317766;0.0824468x0.0803...\n",
       "0.1386    AxesSubplot(0.619681,0.317766;0.0824468x0.0803...\n",
       "0.1051    AxesSubplot(0.718617,0.317766;0.0824468x0.0803...\n",
       "0.1343    AxesSubplot(0.817553,0.317766;0.0824468x0.0803...\n",
       "0.0383      AxesSubplot(0.125,0.221383;0.0824468x0.0803191)\n",
       "0.0324    AxesSubplot(0.223936,0.221383;0.0824468x0.0803...\n",
       "0.0232    AxesSubplot(0.322872,0.221383;0.0824468x0.0803...\n",
       "0.0027    AxesSubplot(0.421809,0.221383;0.0824468x0.0803...\n",
       "0.0065    AxesSubplot(0.520745,0.221383;0.0824468x0.0803...\n",
       "0.0159    AxesSubplot(0.619681,0.221383;0.0824468x0.0803...\n",
       "0.0072    AxesSubplot(0.718617,0.221383;0.0824468x0.0803...\n",
       "0.0167    AxesSubplot(0.817553,0.221383;0.0824468x0.0803...\n",
       "0.0180         AxesSubplot(0.125,0.125;0.0824468x0.0803191)\n",
       "0.0084      AxesSubplot(0.223936,0.125;0.0824468x0.0803191)\n",
       "0.0090      AxesSubplot(0.322872,0.125;0.0824468x0.0803191)\n",
       "0.0032      AxesSubplot(0.421809,0.125;0.0824468x0.0803191)\n",
       "dtype: object"
      ]
     },
     "execution_count": 21,
     "metadata": {},
     "output_type": "execute_result"
    },
    {
     "data": {
      "image/png": "[encoded data removed]",
      "text/plain": [
       "<Figure size 432x288 with 64 Axes>"
      ]
     },
     "metadata": {},
     "output_type": "display_data"
    }
   ],
   "source": [
    "dataset.plot(kind=\"box\",subplots=True, layout=(8,8), sharex=False, sharey=False, fontsize=1)"
   ]
  },
  {
   "cell_type": "code",
   "execution_count": 22,
   "metadata": {},
   "outputs": [
    {
     "data": {
      "image/png": "[encoded data removed]",
      "text/plain": [
       "<Figure size 432x288 with 2 Axes>"
      ]
     },
     "metadata": {},
     "output_type": "display_data"
    }
   ],
   "source": [
    "fig = pyplot.figure()\n",
    "ax = fig.add_subplot(111)\n",
    "cax = ax.matshow(dataset.corr(), vmin=-1, vmax=1, interpolation='none')\n",
    "fig.colorbar(cax)\n",
    "pyplot.show()"
   ]
  },
  {
   "cell_type": "markdown",
   "metadata": {},
   "source": [
    "## 3. Evaluate Algorithms"
   ]
  },
  {
   "cell_type": "markdown",
   "metadata": {},
   "source": [
    "### a) Split-out validation dataset"
   ]
  },
  {
   "cell_type": "code",
   "execution_count": 23,
   "metadata": {},
   "outputs": [],
   "source": [
    "array = dataset.values\n",
    "X = array[:,:60].astype(float)\n",
    "y = array[:,60]\n",
    "validation_size = 0.2\n",
    "seed = 7\n",
    "X_train, X_validation, y_train, y_validation = train_test_split(X, y,\n",
    "test_size=validation_size, random_state=seed)"
   ]
  },
  {
   "cell_type": "markdown",
   "metadata": {},
   "source": [
    "### b) Test Options and Evaluation Metric"
   ]
  },
  {
   "cell_type": "code",
   "execution_count": 24,
   "metadata": {},
   "outputs": [],
   "source": [
    "num_folds = 10\n",
    "seed = 7\n",
    "scoring = \"accuracy\""
   ]
  },
  {
   "cell_type": "markdown",
   "metadata": {},
   "source": [
    "### c) Spot Check Algorithms"
   ]
  },
  {
   "cell_type": "code",
   "execution_count": 26,
   "metadata": {},
   "outputs": [
    {
     "name": "stdout",
     "output_type": "stream",
     "text": [
      "LR: 0.757721 (0.065198)\n",
      "LDA: 0.701838 (0.086338)\n",
      "KNN: 0.756618 (0.111644)\n",
      "CART: 0.708456 (0.104078)\n",
      "NB: 0.700368 (0.132161)\n",
      "SVM: 0.547059 (0.106399)\n"
     ]
    }
   ],
   "source": [
    "models = []\n",
    "models.append(('LR', LogisticRegression()))\n",
    "models.append(('LDA', LinearDiscriminantAnalysis()))\n",
    "models.append(('KNN', KNeighborsClassifier()))\n",
    "models.append(('CART', DecisionTreeClassifier()))\n",
    "models.append(('NB', GaussianNB()))\n",
    "models.append(('SVM', SVC()))\n",
    "\n",
    "results = []\n",
    "names = []\n",
    "for name, model in models:\n",
    "    kfold = KFold(n_splits=num_folds, random_state=seed)\n",
    "    cv_results = cross_val_score(model, X_train, y_train, cv=kfold, scoring=scoring)\n",
    "    results.append(cv_results)\n",
    "    names.append(name)\n",
    "    msg = \"%s: %f (%f)\" % (name, cv_results.mean(), cv_results.std())\n",
    "    print(msg)"
   ]
  },
  {
   "cell_type": "markdown",
   "metadata": {},
   "source": [
    "### d) Compare Algorithms"
   ]
  },
  {
   "cell_type": "code",
   "execution_count": 28,
   "metadata": {},
   "outputs": [
    {
     "data": {
      "image/png": "[encoded data removed]",
      "text/plain": [
       "<Figure size 432x288 with 1 Axes>"
      ]
     },
     "metadata": {},
     "output_type": "display_data"
    }
   ],
   "source": [
    "fig = pyplot.figure()\n",
    "fig.suptitle('Algorithm Comparison')\n",
    "ax = fig.add_subplot(111)\n",
    "pyplot.boxplot(results)\n",
    "ax.set_xticklabels(names)\n",
    "pyplot.show()"
   ]
  },
  {
   "cell_type": "markdown",
   "metadata": {},
   "source": [
    "### e) Evaluate Algorithms: Standardize Data"
   ]
  },
  {
   "cell_type": "code",
   "execution_count": 31,
   "metadata": {},
   "outputs": [
    {
     "name": "stdout",
     "output_type": "stream",
     "text": [
      "ScaledLR: 0.739338 (0.085535)\n",
      "ScaledLDA: 0.701838 (0.086338)\n",
      "ScaledKNN: 0.775368 (0.092709)\n",
      "ScaledCART: 0.751471 (0.094195)\n",
      "ScaledNB: 0.700368 (0.132161)\n",
      "ScaledSVM: 0.824632 (0.067452)\n"
     ]
    }
   ],
   "source": [
    "pipelines = []\n",
    "pipelines.append(('ScaledLR', Pipeline([('Scaler', StandardScaler()),('LR',\n",
    "LogisticRegression())])))\n",
    "pipelines.append(('ScaledLDA', Pipeline([('Scaler', StandardScaler()),('LDA',\n",
    "LinearDiscriminantAnalysis())])))\n",
    "pipelines.append(('ScaledKNN', Pipeline([('Scaler', StandardScaler()),('KNN',\n",
    "KNeighborsClassifier())])))\n",
    "pipelines.append(('ScaledCART', Pipeline([('Scaler', StandardScaler()),('CART',\n",
    "DecisionTreeClassifier())])))\n",
    "pipelines.append(('ScaledNB', Pipeline([('Scaler', StandardScaler()),('NB',\n",
    "GaussianNB())])))\n",
    "pipelines.append(('ScaledSVM', Pipeline([('Scaler', StandardScaler()),('SVM', SVC())])))\n",
    "results = []\n",
    "names = []\n",
    "for name, model in pipelines:\n",
    "    kfold = KFold(n_splits=num_folds, random_state=seed)\n",
    "    cv_results = cross_val_score(model, X_train, y_train, cv=kfold, scoring=scoring)\n",
    "    results.append(cv_results)\n",
    "    names.append(name)\n",
    "    msg = \"%s: %f (%f)\" % (name, cv_results.mean(), cv_results.std())\n",
    "    print(msg)"
   ]
  },
  {
   "cell_type": "markdown",
   "metadata": {},
   "source": [
    "### e) Compare Algorithms with Standardize Data"
   ]
  },
  {
   "cell_type": "code",
   "execution_count": 32,
   "metadata": {},
   "outputs": [
    {
     "data": {
      "image/png": "[encoded data removed]",
      "text/plain": [
       "<Figure size 432x288 with 1 Axes>"
      ]
     },
     "metadata": {},
     "output_type": "display_data"
    }
   ],
   "source": [
    "fig = pyplot.figure()\n",
    "fig.suptitle('Scaled Algorithm Comparison')\n",
    "ax = fig.add_subplot(111)\n",
    "pyplot.boxplot(results)\n",
    "ax.set_xticklabels(names)\n",
    "pyplot.show()"
   ]
  },
  {
   "cell_type": "markdown",
   "metadata": {},
   "source": [
    "## 4. Improve Accuracy"
   ]
  },
  {
   "cell_type": "markdown",
   "metadata": {},
   "source": [
    "### a) Algorithm Tunning"
   ]
  },
  {
   "cell_type": "markdown",
   "metadata": {},
   "source": [
    "#### 1) KNN Tunning"
   ]
  },
  {
   "cell_type": "code",
   "execution_count": 35,
   "metadata": {},
   "outputs": [
    {
     "name": "stdout",
     "output_type": "stream",
     "text": [
      "Best: 0.830303 using {'n_neighbors': 1}\n",
      "0.830303 (0.066015) with: {'n_neighbors': 1}\n",
      "0.818182 (0.065977) with: {'n_neighbors': 3}\n",
      "0.781818 (0.089757) with: {'n_neighbors': 5}\n",
      "0.751515 (0.055027) with: {'n_neighbors': 7}\n",
      "0.721212 (0.073553) with: {'n_neighbors': 9}\n",
      "0.696970 (0.048779) with: {'n_neighbors': 11}\n",
      "0.684848 (0.075451) with: {'n_neighbors': 13}\n",
      "0.684848 (0.068159) with: {'n_neighbors': 15}\n",
      "0.678788 (0.078620) with: {'n_neighbors': 17}\n",
      "0.672727 (0.068407) with: {'n_neighbors': 19}\n",
      "0.678788 (0.060708) with: {'n_neighbors': 21}\n"
     ]
    }
   ],
   "source": [
    "scaler = StandardScaler().fit(X_train)\n",
    "rescaledX = scaler.transform(X_train)\n",
    "neighbors = [1,3,5,7,9,11,13,15,17,19,21]\n",
    "param_grid = dict(n_neighbors=neighbors)\n",
    "model = KNeighborsClassifier()\n",
    "kfold = KFold(n_splits=num_folds, random_state=seed)\n",
    "grid = GridSearchCV(estimator=model, param_grid=param_grid, scoring=scoring, cv=kfold)\n",
    "grid_result = grid.fit(rescaledX, y_train)\n",
    "print(\"Best: %f using %s\" % (grid_result.best_score_, grid_result.best_params_))\n",
    "means = grid_result.cv_results_['mean_test_score']\n",
    "stds = grid_result.cv_results_['std_test_score']\n",
    "params = grid_result.cv_results_['params']\n",
    "for mean, stdev, param in zip(means, stds, params):\n",
    "    print(\"%f (%f) with: %r\" % (mean, stdev, param))"
   ]
  },
  {
   "cell_type": "markdown",
   "metadata": {},
   "source": [
    "#### 2) SVM Tunning"
   ]
  },
  {
   "cell_type": "code",
   "execution_count": 37,
   "metadata": {},
   "outputs": [
    {
     "name": "stdout",
     "output_type": "stream",
     "text": [
      "Best: 0.830303 using {'C': 1.5, 'kernel': 'rbf'}\n",
      "0.757576 (0.045625) with: {'C': 0.1, 'kernel': 'linear'}\n",
      "0.539394 (0.189070) with: {'C': 0.1, 'kernel': 'poly'}\n",
      "0.533333 (0.097328) with: {'C': 0.1, 'kernel': 'rbf'}\n",
      "0.660606 (0.100061) with: {'C': 0.1, 'kernel': 'sigmoid'}\n",
      "0.739394 (0.087924) with: {'C': 0.3, 'kernel': 'linear'}\n",
      "0.636364 (0.155446) with: {'C': 0.3, 'kernel': 'poly'}\n",
      "0.751515 (0.071727) with: {'C': 0.3, 'kernel': 'rbf'}\n",
      "0.709091 (0.101886) with: {'C': 0.3, 'kernel': 'sigmoid'}\n",
      "0.703030 (0.103846) with: {'C': 0.5, 'kernel': 'linear'}\n",
      "0.672727 (0.164063) with: {'C': 0.5, 'kernel': 'poly'}\n",
      "0.787879 (0.062552) with: {'C': 0.5, 'kernel': 'rbf'}\n",
      "0.715152 (0.108311) with: {'C': 0.5, 'kernel': 'sigmoid'}\n",
      "0.721212 (0.099442) with: {'C': 0.7, 'kernel': 'linear'}\n",
      "0.709091 (0.140575) with: {'C': 0.7, 'kernel': 'poly'}\n",
      "0.793939 (0.059960) with: {'C': 0.7, 'kernel': 'rbf'}\n",
      "0.715152 (0.112845) with: {'C': 0.7, 'kernel': 'sigmoid'}\n",
      "0.709091 (0.095800) with: {'C': 0.9, 'kernel': 'linear'}\n",
      "0.703030 (0.152372) with: {'C': 0.9, 'kernel': 'poly'}\n",
      "0.793939 (0.069751) with: {'C': 0.9, 'kernel': 'rbf'}\n",
      "0.709091 (0.122173) with: {'C': 0.9, 'kernel': 'sigmoid'}\n",
      "0.715152 (0.092197) with: {'C': 1.0, 'kernel': 'linear'}\n",
      "0.727273 (0.147152) with: {'C': 1.0, 'kernel': 'poly'}\n",
      "0.800000 (0.069503) with: {'C': 1.0, 'kernel': 'rbf'}\n",
      "0.715152 (0.120392) with: {'C': 1.0, 'kernel': 'sigmoid'}\n",
      "0.727273 (0.095908) with: {'C': 1.3, 'kernel': 'linear'}\n",
      "0.751515 (0.134749) with: {'C': 1.3, 'kernel': 'poly'}\n",
      "0.818182 (0.078755) with: {'C': 1.3, 'kernel': 'rbf'}\n",
      "0.721212 (0.113956) with: {'C': 1.3, 'kernel': 'sigmoid'}\n",
      "0.727273 (0.095908) with: {'C': 1.5, 'kernel': 'linear'}\n",
      "0.745455 (0.136814) with: {'C': 1.5, 'kernel': 'poly'}\n",
      "0.830303 (0.073217) with: {'C': 1.5, 'kernel': 'rbf'}\n",
      "0.733333 (0.145914) with: {'C': 1.5, 'kernel': 'sigmoid'}\n",
      "0.721212 (0.102422) with: {'C': 1.7, 'kernel': 'linear'}\n",
      "0.739394 (0.129095) with: {'C': 1.7, 'kernel': 'poly'}\n",
      "0.818182 (0.069913) with: {'C': 1.7, 'kernel': 'rbf'}\n",
      "0.721212 (0.146848) with: {'C': 1.7, 'kernel': 'sigmoid'}\n",
      "0.727273 (0.086502) with: {'C': 2.0, 'kernel': 'linear'}\n",
      "0.751515 (0.111693) with: {'C': 2.0, 'kernel': 'poly'}\n",
      "0.830303 (0.073974) with: {'C': 2.0, 'kernel': 'rbf'}\n",
      "0.745455 (0.145113) with: {'C': 2.0, 'kernel': 'sigmoid'}\n"
     ]
    }
   ],
   "source": [
    "scaler = StandardScaler().fit(X_train)\n",
    "rescaledX = scaler.transform(X_train)\n",
    "c_values = [0.1, 0.3, 0.5, 0.7, 0.9, 1.0, 1.3, 1.5, 1.7, 2.0]\n",
    "kernel_values = ['linear', 'poly', 'rbf', 'sigmoid']\n",
    "param_grid = dict(C=c_values, kernel=kernel_values)\n",
    "model = SVC()\n",
    "kfold = KFold(n_splits=num_folds, random_state=seed)\n",
    "grid = GridSearchCV(estimator=model, param_grid=param_grid, scoring=scoring, cv=kfold)\n",
    "grid_result = grid.fit(rescaledX, y_train)\n",
    "print(\"Best: %f using %s\" % (grid_result.best_score_, grid_result.best_params_))\n",
    "means = grid_result.cv_results_['mean_test_score']\n",
    "stds = grid_result.cv_results_['std_test_score']\n",
    "params = grid_result.cv_results_['params']\n",
    "for mean, stdev, param in zip(means, stds, params):\n",
    "    print(\"%f (%f) with: %r\" % (mean, stdev, param))"
   ]
  },
  {
   "cell_type": "markdown",
   "metadata": {},
   "source": [
    "### b) Ensembles"
   ]
  },
  {
   "cell_type": "code",
   "execution_count": 40,
   "metadata": {},
   "outputs": [
    {
     "name": "stdout",
     "output_type": "stream",
     "text": [
      "AB: 0.758088 (0.079819)\n",
      "GBM: 0.782721 (0.122217)\n",
      "RF: 0.734559 (0.086045)\n",
      "ET: 0.811397 (0.119619)\n"
     ]
    }
   ],
   "source": [
    "ensembles = []\n",
    "ensembles.append(('AB', AdaBoostClassifier()))\n",
    "ensembles.append(('GBM', GradientBoostingClassifier()))\n",
    "ensembles.append(('RF', RandomForestClassifier()))\n",
    "ensembles.append(('ET', ExtraTreesClassifier()))\n",
    "results = []\n",
    "names = []\n",
    "for name, model in ensembles:\n",
    "    kfold = KFold(n_splits=num_folds, random_state=seed)\n",
    "    cv_results = cross_val_score(model, X_train, y_train, cv=kfold, scoring=scoring)\n",
    "    results.append(cv_results)\n",
    "    names.append(name)\n",
    "    msg = \"%s: %f (%f)\" % (name, cv_results.mean(), cv_results.std())\n",
    "    print(msg)"
   ]
  },
  {
   "cell_type": "code",
   "execution_count": 41,
   "metadata": {},
   "outputs": [
    {
     "data": {
      "image/png": "[encoded data removed]",
      "text/plain": [
       "<Figure size 432x288 with 1 Axes>"
      ]
     },
     "metadata": {},
     "output_type": "display_data"
    }
   ],
   "source": [
    "# compare algorithms\n",
    "fig = pyplot.figure()\n",
    "fig.suptitle('Ensemble Algorithm Comparison')\n",
    "ax = fig.add_subplot(111)\n",
    "pyplot.boxplot(results)\n",
    "ax.set_xticklabels(names)\n",
    "pyplot.show()"
   ]
  },
  {
   "cell_type": "markdown",
   "metadata": {},
   "source": [
    "## 5. Finalize Model"
   ]
  },
  {
   "cell_type": "markdown",
   "metadata": {},
   "source": [
    "### a) Predictions on Validation Dataset"
   ]
  },
  {
   "cell_type": "code",
   "execution_count": 44,
   "metadata": {},
   "outputs": [
    {
     "name": "stdout",
     "output_type": "stream",
     "text": [
      "0.9285714285714286\n",
      "\n",
      "[[24  2]\n",
      " [ 1 15]]\n",
      "\n",
      "             precision    recall  f1-score   support\n",
      "\n",
      "          M       0.96      0.92      0.94        26\n",
      "          R       0.88      0.94      0.91        16\n",
      "\n",
      "avg / total       0.93      0.93      0.93        42\n",
      "\n"
     ]
    }
   ],
   "source": [
    "# Prepare the model\n",
    "scaler = StandardScaler().fit(X_train)\n",
    "rescaledX = scaler.transform(X_train)\n",
    "model = SVC(C=1.5)\n",
    "model.fit(rescaledX, y_train)\n",
    "\n",
    "# Estimate accuracy on validation dataset\n",
    "rescaledValidationX = scaler.transform(X_validation)\n",
    "predictions = model.predict(rescaledValidationX)\n",
    "print(accuracy_score(y_validation, predictions))\n",
    "print(\"\")\n",
    "print(confusion_matrix(y_validation, predictions))\n",
    "print(\"\")\n",
    "print(classification_report(y_validation, predictions))"
   ]
  }
 ],
 "metadata": {
  "kernelspec": {
   "display_name": "Python 3",
   "language": "python",
   "name": "python3"
  },
  "language_info": {
   "codemirror_mode": {
    "name": "ipython",
    "version": 3
   },
   "file_extension": ".py",
   "mimetype": "text/x-python",
   "name": "python",
   "nbconvert_exporter": "python",
   "pygments_lexer": "ipython3",
   "version": "3.6.5"
  }
 },
 "nbformat": 4,
 "nbformat_minor": 2
}
